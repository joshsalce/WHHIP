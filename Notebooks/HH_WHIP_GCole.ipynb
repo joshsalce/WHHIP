{
  "nbformat": 4,
  "nbformat_minor": 0,
  "metadata": {
    "colab": {
      "name": "HH-WHIP_GCole.ipynb",
      "provenance": [],
      "collapsed_sections": []
    },
    "kernelspec": {
      "name": "python3",
      "display_name": "Python 3"
    },
    "language_info": {
      "name": "python"
    }
  },
  "cells": [
    {
      "cell_type": "code",
      "execution_count": 2,
      "metadata": {
        "id": "8x5lJ2GGksI_",
        "colab": {
          "base_uri": "https://localhost:8080/"
        },
        "outputId": "b38d61b4-945d-4a97-84cf-3dbe46ff3584"
      },
      "outputs": [
        {
          "output_type": "stream",
          "name": "stdout",
          "text": [
            "\u001b[K     |████████████████████████████████| 415 kB 5.2 MB/s \n",
            "\u001b[K     |████████████████████████████████| 291 kB 48.6 MB/s \n",
            "\u001b[K     |████████████████████████████████| 856 kB 38.2 MB/s \n",
            "\u001b[?25h"
          ]
        }
      ],
      "source": [
        "%pip install pybaseball -q"
      ]
    },
    {
      "cell_type": "code",
      "source": [
        "import pybaseball as pyb\n",
        "from pybaseball import statcast\n",
        "from pybaseball import statcast_pitcher, playerid_lookup\n",
        "from pybaseball import pitching_stats_bref"
      ],
      "metadata": {
        "id": "8oib1VhSkvnj"
      },
      "execution_count": 3,
      "outputs": []
    },
    {
      "cell_type": "code",
      "source": [
        "import pandas as pd\n",
        "import numpy as np"
      ],
      "metadata": {
        "id": "-GXitP_Qn9bC"
      },
      "execution_count": 4,
      "outputs": []
    },
    {
      "cell_type": "code",
      "source": [
        "cole_id = playerid_lookup('cole','gerrit')['key_mlbam'][0]\n",
        "cole_id"
      ],
      "metadata": {
        "colab": {
          "base_uri": "https://localhost:8080/"
        },
        "id": "jxqr37e2k4Hz",
        "outputId": "ad86513c-26cc-4376-c147-4456c5a474a5"
      },
      "execution_count": 11,
      "outputs": [
        {
          "output_type": "execute_result",
          "data": {
            "text/plain": [
              "543037"
            ]
          },
          "metadata": {},
          "execution_count": 11
        }
      ]
    },
    {
      "cell_type": "code",
      "source": [
        "cole = statcast_pitcher('2021-04-01', '2021-10-03', player_id = cole_id)\n",
        "cole.head(5)"
      ],
      "metadata": {
        "id": "1MccL8bClIGO",
        "colab": {
          "base_uri": "https://localhost:8080/",
          "height": 317
        },
        "outputId": "6c53fd04-33de-4ed5-9d35-964e56953419"
      },
      "execution_count": 28,
      "outputs": [
        {
          "output_type": "stream",
          "name": "stdout",
          "text": [
            "Gathering Player Data\n"
          ]
        },
        {
          "output_type": "execute_result",
          "data": {
            "text/plain": [
              "  pitch_type   game_date  release_speed  release_pos_x  release_pos_z  \\\n",
              "0         CH  2021-09-29           90.3          -1.83           5.55   \n",
              "1         CH  2021-09-29           89.4          -1.78           5.57   \n",
              "2         FF  2021-09-29           97.4          -1.86           5.71   \n",
              "3         SL  2021-09-29           87.5          -1.73           5.75   \n",
              "4         SL  2021-09-29           87.9          -1.66           5.85   \n",
              "\n",
              "    player_name  batter  pitcher     events    description  ...  fld_score  \\\n",
              "0  Cole, Gerrit  624512   543037  field_out  hit_into_play  ...          3   \n",
              "1  Cole, Gerrit  624512   543037        NaN       foul_tip  ...          3   \n",
              "2  Cole, Gerrit  624512   543037        NaN           ball  ...          3   \n",
              "3  Cole, Gerrit  669289   543037     single  hit_into_play  ...          3   \n",
              "4  Cole, Gerrit  669289   543037        NaN  called_strike  ...          3   \n",
              "\n",
              "   post_away_score  post_home_score  post_bat_score  post_fld_score  \\\n",
              "0                3                5               5               3   \n",
              "1                3                5               5               3   \n",
              "2                3                5               5               3   \n",
              "3                3                5               5               3   \n",
              "4                3                5               5               3   \n",
              "\n",
              "  if_fielding_alignment of_fielding_alignment spin_axis delta_home_win_exp  \\\n",
              "0              Standard              Standard     243.0             -0.014   \n",
              "1              Standard              Standard     240.0              0.000   \n",
              "2              Standard              Standard     224.0              0.000   \n",
              "3              Standard              Standard      75.0              0.007   \n",
              "4              Standard              Standard     125.0              0.000   \n",
              "\n",
              "  delta_run_exp  \n",
              "0        -0.215  \n",
              "1        -0.048  \n",
              "2         0.036  \n",
              "3         0.139  \n",
              "4        -0.018  \n",
              "\n",
              "[5 rows x 92 columns]"
            ],
            "text/html": [
              "\n",
              "  <div id=\"df-63bed680-63fa-48f3-8cb1-aab91c567c20\">\n",
              "    <div class=\"colab-df-container\">\n",
              "      <div>\n",
              "<style scoped>\n",
              "    .dataframe tbody tr th:only-of-type {\n",
              "        vertical-align: middle;\n",
              "    }\n",
              "\n",
              "    .dataframe tbody tr th {\n",
              "        vertical-align: top;\n",
              "    }\n",
              "\n",
              "    .dataframe thead th {\n",
              "        text-align: right;\n",
              "    }\n",
              "</style>\n",
              "<table border=\"1\" class=\"dataframe\">\n",
              "  <thead>\n",
              "    <tr style=\"text-align: right;\">\n",
              "      <th></th>\n",
              "      <th>pitch_type</th>\n",
              "      <th>game_date</th>\n",
              "      <th>release_speed</th>\n",
              "      <th>release_pos_x</th>\n",
              "      <th>release_pos_z</th>\n",
              "      <th>player_name</th>\n",
              "      <th>batter</th>\n",
              "      <th>pitcher</th>\n",
              "      <th>events</th>\n",
              "      <th>description</th>\n",
              "      <th>...</th>\n",
              "      <th>fld_score</th>\n",
              "      <th>post_away_score</th>\n",
              "      <th>post_home_score</th>\n",
              "      <th>post_bat_score</th>\n",
              "      <th>post_fld_score</th>\n",
              "      <th>if_fielding_alignment</th>\n",
              "      <th>of_fielding_alignment</th>\n",
              "      <th>spin_axis</th>\n",
              "      <th>delta_home_win_exp</th>\n",
              "      <th>delta_run_exp</th>\n",
              "    </tr>\n",
              "  </thead>\n",
              "  <tbody>\n",
              "    <tr>\n",
              "      <th>0</th>\n",
              "      <td>CH</td>\n",
              "      <td>2021-09-29</td>\n",
              "      <td>90.3</td>\n",
              "      <td>-1.83</td>\n",
              "      <td>5.55</td>\n",
              "      <td>Cole, Gerrit</td>\n",
              "      <td>624512</td>\n",
              "      <td>543037</td>\n",
              "      <td>field_out</td>\n",
              "      <td>hit_into_play</td>\n",
              "      <td>...</td>\n",
              "      <td>3</td>\n",
              "      <td>3</td>\n",
              "      <td>5</td>\n",
              "      <td>5</td>\n",
              "      <td>3</td>\n",
              "      <td>Standard</td>\n",
              "      <td>Standard</td>\n",
              "      <td>243.0</td>\n",
              "      <td>-0.014</td>\n",
              "      <td>-0.215</td>\n",
              "    </tr>\n",
              "    <tr>\n",
              "      <th>1</th>\n",
              "      <td>CH</td>\n",
              "      <td>2021-09-29</td>\n",
              "      <td>89.4</td>\n",
              "      <td>-1.78</td>\n",
              "      <td>5.57</td>\n",
              "      <td>Cole, Gerrit</td>\n",
              "      <td>624512</td>\n",
              "      <td>543037</td>\n",
              "      <td>NaN</td>\n",
              "      <td>foul_tip</td>\n",
              "      <td>...</td>\n",
              "      <td>3</td>\n",
              "      <td>3</td>\n",
              "      <td>5</td>\n",
              "      <td>5</td>\n",
              "      <td>3</td>\n",
              "      <td>Standard</td>\n",
              "      <td>Standard</td>\n",
              "      <td>240.0</td>\n",
              "      <td>0.000</td>\n",
              "      <td>-0.048</td>\n",
              "    </tr>\n",
              "    <tr>\n",
              "      <th>2</th>\n",
              "      <td>FF</td>\n",
              "      <td>2021-09-29</td>\n",
              "      <td>97.4</td>\n",
              "      <td>-1.86</td>\n",
              "      <td>5.71</td>\n",
              "      <td>Cole, Gerrit</td>\n",
              "      <td>624512</td>\n",
              "      <td>543037</td>\n",
              "      <td>NaN</td>\n",
              "      <td>ball</td>\n",
              "      <td>...</td>\n",
              "      <td>3</td>\n",
              "      <td>3</td>\n",
              "      <td>5</td>\n",
              "      <td>5</td>\n",
              "      <td>3</td>\n",
              "      <td>Standard</td>\n",
              "      <td>Standard</td>\n",
              "      <td>224.0</td>\n",
              "      <td>0.000</td>\n",
              "      <td>0.036</td>\n",
              "    </tr>\n",
              "    <tr>\n",
              "      <th>3</th>\n",
              "      <td>SL</td>\n",
              "      <td>2021-09-29</td>\n",
              "      <td>87.5</td>\n",
              "      <td>-1.73</td>\n",
              "      <td>5.75</td>\n",
              "      <td>Cole, Gerrit</td>\n",
              "      <td>669289</td>\n",
              "      <td>543037</td>\n",
              "      <td>single</td>\n",
              "      <td>hit_into_play</td>\n",
              "      <td>...</td>\n",
              "      <td>3</td>\n",
              "      <td>3</td>\n",
              "      <td>5</td>\n",
              "      <td>5</td>\n",
              "      <td>3</td>\n",
              "      <td>Standard</td>\n",
              "      <td>Standard</td>\n",
              "      <td>75.0</td>\n",
              "      <td>0.007</td>\n",
              "      <td>0.139</td>\n",
              "    </tr>\n",
              "    <tr>\n",
              "      <th>4</th>\n",
              "      <td>SL</td>\n",
              "      <td>2021-09-29</td>\n",
              "      <td>87.9</td>\n",
              "      <td>-1.66</td>\n",
              "      <td>5.85</td>\n",
              "      <td>Cole, Gerrit</td>\n",
              "      <td>669289</td>\n",
              "      <td>543037</td>\n",
              "      <td>NaN</td>\n",
              "      <td>called_strike</td>\n",
              "      <td>...</td>\n",
              "      <td>3</td>\n",
              "      <td>3</td>\n",
              "      <td>5</td>\n",
              "      <td>5</td>\n",
              "      <td>3</td>\n",
              "      <td>Standard</td>\n",
              "      <td>Standard</td>\n",
              "      <td>125.0</td>\n",
              "      <td>0.000</td>\n",
              "      <td>-0.018</td>\n",
              "    </tr>\n",
              "  </tbody>\n",
              "</table>\n",
              "<p>5 rows × 92 columns</p>\n",
              "</div>\n",
              "      <button class=\"colab-df-convert\" onclick=\"convertToInteractive('df-63bed680-63fa-48f3-8cb1-aab91c567c20')\"\n",
              "              title=\"Convert this dataframe to an interactive table.\"\n",
              "              style=\"display:none;\">\n",
              "        \n",
              "  <svg xmlns=\"http://www.w3.org/2000/svg\" height=\"24px\"viewBox=\"0 0 24 24\"\n",
              "       width=\"24px\">\n",
              "    <path d=\"M0 0h24v24H0V0z\" fill=\"none\"/>\n",
              "    <path d=\"M18.56 5.44l.94 2.06.94-2.06 2.06-.94-2.06-.94-.94-2.06-.94 2.06-2.06.94zm-11 1L8.5 8.5l.94-2.06 2.06-.94-2.06-.94L8.5 2.5l-.94 2.06-2.06.94zm10 10l.94 2.06.94-2.06 2.06-.94-2.06-.94-.94-2.06-.94 2.06-2.06.94z\"/><path d=\"M17.41 7.96l-1.37-1.37c-.4-.4-.92-.59-1.43-.59-.52 0-1.04.2-1.43.59L10.3 9.45l-7.72 7.72c-.78.78-.78 2.05 0 2.83L4 21.41c.39.39.9.59 1.41.59.51 0 1.02-.2 1.41-.59l7.78-7.78 2.81-2.81c.8-.78.8-2.07 0-2.86zM5.41 20L4 18.59l7.72-7.72 1.47 1.35L5.41 20z\"/>\n",
              "  </svg>\n",
              "      </button>\n",
              "      \n",
              "  <style>\n",
              "    .colab-df-container {\n",
              "      display:flex;\n",
              "      flex-wrap:wrap;\n",
              "      gap: 12px;\n",
              "    }\n",
              "\n",
              "    .colab-df-convert {\n",
              "      background-color: #E8F0FE;\n",
              "      border: none;\n",
              "      border-radius: 50%;\n",
              "      cursor: pointer;\n",
              "      display: none;\n",
              "      fill: #1967D2;\n",
              "      height: 32px;\n",
              "      padding: 0 0 0 0;\n",
              "      width: 32px;\n",
              "    }\n",
              "\n",
              "    .colab-df-convert:hover {\n",
              "      background-color: #E2EBFA;\n",
              "      box-shadow: 0px 1px 2px rgba(60, 64, 67, 0.3), 0px 1px 3px 1px rgba(60, 64, 67, 0.15);\n",
              "      fill: #174EA6;\n",
              "    }\n",
              "\n",
              "    [theme=dark] .colab-df-convert {\n",
              "      background-color: #3B4455;\n",
              "      fill: #D2E3FC;\n",
              "    }\n",
              "\n",
              "    [theme=dark] .colab-df-convert:hover {\n",
              "      background-color: #434B5C;\n",
              "      box-shadow: 0px 1px 3px 1px rgba(0, 0, 0, 0.15);\n",
              "      filter: drop-shadow(0px 1px 2px rgba(0, 0, 0, 0.3));\n",
              "      fill: #FFFFFF;\n",
              "    }\n",
              "  </style>\n",
              "\n",
              "      <script>\n",
              "        const buttonEl =\n",
              "          document.querySelector('#df-63bed680-63fa-48f3-8cb1-aab91c567c20 button.colab-df-convert');\n",
              "        buttonEl.style.display =\n",
              "          google.colab.kernel.accessAllowed ? 'block' : 'none';\n",
              "\n",
              "        async function convertToInteractive(key) {\n",
              "          const element = document.querySelector('#df-63bed680-63fa-48f3-8cb1-aab91c567c20');\n",
              "          const dataTable =\n",
              "            await google.colab.kernel.invokeFunction('convertToInteractive',\n",
              "                                                     [key], {});\n",
              "          if (!dataTable) return;\n",
              "\n",
              "          const docLinkHtml = 'Like what you see? Visit the ' +\n",
              "            '<a target=\"_blank\" href=https://colab.research.google.com/notebooks/data_table.ipynb>data table notebook</a>'\n",
              "            + ' to learn more about interactive tables.';\n",
              "          element.innerHTML = '';\n",
              "          dataTable['output_type'] = 'display_data';\n",
              "          await google.colab.output.renderOutput(dataTable, element);\n",
              "          const docLink = document.createElement('div');\n",
              "          docLink.innerHTML = docLinkHtml;\n",
              "          element.appendChild(docLink);\n",
              "        }\n",
              "      </script>\n",
              "    </div>\n",
              "  </div>\n",
              "  "
            ]
          },
          "metadata": {},
          "execution_count": 28
        }
      ]
    },
    {
      "cell_type": "code",
      "source": [
        "cole_hh = cole[cole['launch_speed'] >= 95.0]"
      ],
      "metadata": {
        "id": "Sn8NTDQQucPs"
      },
      "execution_count": 21,
      "outputs": []
    },
    {
      "cell_type": "markdown",
      "source": [
        "## Gerrit Cole 2021 WHHIP"
      ],
      "metadata": {
        "id": "2_rTV0dT_Ft6"
      }
    },
    {
      "cell_type": "code",
      "source": [
        "hits = ['single', 'double','triple','home_run']"
      ],
      "metadata": {
        "id": "zoZdxrt1-ChK"
      },
      "execution_count": 24,
      "outputs": []
    },
    {
      "cell_type": "code",
      "source": [
        "cole_hh_allowed = cole_hh[cole_hh['events'].isin(hits)]\n",
        "hard_hits_allowed = cole_hh_allowed.shape[0]\n",
        "hard_hits_allowed"
      ],
      "metadata": {
        "colab": {
          "base_uri": "https://localhost:8080/"
        },
        "id": "2bFI1pg7_SWj",
        "outputId": "e28cf18a-d3a8-48f2-cd7b-e51482b952ba"
      },
      "execution_count": 25,
      "outputs": [
        {
          "output_type": "execute_result",
          "data": {
            "text/plain": [
              "81"
            ]
          },
          "metadata": {},
          "execution_count": 25
        }
      ]
    },
    {
      "cell_type": "markdown",
      "source": [
        "Gerrit Cole BB: 41\n",
        "\n",
        "Gerrit Cole IP: 181.1"
      ],
      "metadata": {
        "id": "BmfS2htA_-KC"
      }
    },
    {
      "cell_type": "code",
      "source": [
        "cole_WHHIP = round((41 + hard_hits_allowed)/(181.33), 3)"
      ],
      "metadata": {
        "id": "Ai7u48rrAHe5"
      },
      "execution_count": 26,
      "outputs": []
    },
    {
      "cell_type": "code",
      "source": [
        "cole_WHHIP"
      ],
      "metadata": {
        "colab": {
          "base_uri": "https://localhost:8080/"
        },
        "id": "hRhZH-QgAPUc",
        "outputId": "4a766585-a98d-4da5-9bcf-76c09a1c49c5"
      },
      "execution_count": 27,
      "outputs": [
        {
          "output_type": "execute_result",
          "data": {
            "text/plain": [
              "0.673"
            ]
          },
          "metadata": {},
          "execution_count": 27
        }
      ]
    },
    {
      "cell_type": "markdown",
      "source": [
        "2021 Gerrit Cole's Hard-Hit WHIP (WHHIP): 0.673\n",
        "\n",
        "---\n",
        "\n"
      ],
      "metadata": {
        "id": "KwWi2JOswTqa"
      }
    },
    {
      "cell_type": "markdown",
      "source": [
        "## Gerrit Cole 2021 WHHIP.v2"
      ],
      "metadata": {
        "id": "AKwHGG37_Lis"
      }
    },
    {
      "cell_type": "code",
      "source": [
        "# One Line of Code That is Changed\n",
        "cole_hard_hits = cole_hh[cole_hh['description'] == \"hit_into_play\"]"
      ],
      "metadata": {
        "id": "B0m1MFhi_Vay"
      },
      "execution_count": 29,
      "outputs": []
    },
    {
      "cell_type": "code",
      "source": [
        "all_hard_hits = cole_hard_hits.shape[0]\n",
        "all_hard_hits"
      ],
      "metadata": {
        "colab": {
          "base_uri": "https://localhost:8080/"
        },
        "id": "NnbRXenkBDND",
        "outputId": "046dde7d-2f4d-43d3-89b1-335f5fd03ae5"
      },
      "execution_count": 30,
      "outputs": [
        {
          "output_type": "execute_result",
          "data": {
            "text/plain": [
              "170"
            ]
          },
          "metadata": {},
          "execution_count": 30
        }
      ]
    },
    {
      "cell_type": "markdown",
      "source": [
        "Gerrit Cole BB: 41\n",
        "\n",
        "Gerrit Cole IP: 181.1"
      ],
      "metadata": {
        "id": "mPrvvSPV_uE4"
      }
    },
    {
      "cell_type": "code",
      "source": [
        "WHHIP_v2_cole = (41 + all_hard_hits)/(181.33)\n",
        "print(round(WHHIP_v2_cole, 3))"
      ],
      "metadata": {
        "id": "pxjDsFWXvwiL",
        "colab": {
          "base_uri": "https://localhost:8080/"
        },
        "outputId": "f9ea0e33-2f82-4f1f-f6dd-81dd64b17f91"
      },
      "execution_count": 32,
      "outputs": [
        {
          "output_type": "stream",
          "name": "stdout",
          "text": [
            "1.164\n"
          ]
        }
      ]
    },
    {
      "cell_type": "markdown",
      "source": [
        "Gerrit Cole 2021 WHHIP.v2: 1.164"
      ],
      "metadata": {
        "id": "7QfUz9-y-nn8"
      }
    }
  ]
}
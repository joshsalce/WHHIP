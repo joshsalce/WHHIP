{
  "nbformat": 4,
  "nbformat_minor": 0,
  "metadata": {
    "colab": {
      "name": "HH-WHIP_2021.ipynb",
      "provenance": [],
      "collapsed_sections": []
    },
    "kernelspec": {
      "name": "python3",
      "display_name": "Python 3"
    },
    "language_info": {
      "name": "python"
    }
  },
  "cells": [
    {
      "cell_type": "code",
      "execution_count": 1,
      "metadata": {
        "id": "8x5lJ2GGksI_",
        "colab": {
          "base_uri": "https://localhost:8080/"
        },
        "outputId": "824fa207-a804-411d-e833-e923438aa586"
      },
      "outputs": [
        {
          "output_type": "stream",
          "name": "stdout",
          "text": [
            "\u001b[K     |████████████████████████████████| 415 kB 11.0 MB/s \n",
            "\u001b[K     |████████████████████████████████| 291 kB 66.4 MB/s \n",
            "\u001b[K     |████████████████████████████████| 856 kB 63.5 MB/s \n",
            "\u001b[?25h"
          ]
        }
      ],
      "source": [
        "%pip install pybaseball -q"
      ]
    },
    {
      "cell_type": "code",
      "source": [
        "import pybaseball as pyb\n",
        "from pybaseball import statcast\n",
        "from pybaseball import statcast_pitcher, playerid_lookup\n",
        "from pybaseball import pitching_stats_bref"
      ],
      "metadata": {
        "id": "8oib1VhSkvnj"
      },
      "execution_count": 2,
      "outputs": []
    },
    {
      "cell_type": "code",
      "source": [
        "import pandas as pd\n",
        "import numpy as np"
      ],
      "metadata": {
        "id": "-GXitP_Qn9bC"
      },
      "execution_count": 3,
      "outputs": []
    },
    {
      "cell_type": "markdown",
      "source": [
        "WHHIP: All Pitchers from 2021"
      ],
      "metadata": {
        "id": "BlIXaN5v_hGp"
      }
    },
    {
      "cell_type": "code",
      "source": [
        "pitching21 = pitching_stats_bref(2021)"
      ],
      "metadata": {
        "id": "iBAdF2vT834I"
      },
      "execution_count": null,
      "outputs": []
    },
    {
      "cell_type": "code",
      "source": [
        "pitching21"
      ],
      "metadata": {
        "id": "G-NOkRiDDEl4"
      },
      "execution_count": null,
      "outputs": []
    },
    {
      "cell_type": "code",
      "source": [
        "names = pitching21['Name'].unique()\n",
        "names"
      ],
      "metadata": {
        "id": "70BdpPr5-xUl"
      },
      "execution_count": null,
      "outputs": []
    },
    {
      "cell_type": "code",
      "source": [
        "ip = pitching21['IP']\n",
        "new_ip = []\n",
        "\n",
        "for i in ip:\n",
        "  i = str(i)\n",
        "  if i[-2:] == \".1\":\n",
        "    i = i.replace(\".1\", \".33\")\n",
        "  if i[-2:] == \".2\":\n",
        "    i = i.replace(\".2\", \".66\")\n",
        "  i = float(i)\n",
        "  new_ip.append(i)\n"
      ],
      "metadata": {
        "id": "Zp-k9rV-B5uJ",
        "colab": {
          "base_uri": "https://localhost:8080/"
        },
        "outputId": "0a7cce00-c103-4638-9cf8-d2af8adb0f5b"
      },
      "execution_count": 68,
      "outputs": [
        {
          "output_type": "stream",
          "name": "stdout",
          "text": [
            "[17.66, 17.33, 36.66, 36.0, 11.0, 10.66, 52.66, 5.33, 7.0, 95.0, 2.66, 19.0, 0.33, 59.66, 205.66, 0.33, 15.33, 106.33, 23.0, 124.66, 50.33, 1.0, 47.66, 1.0, 1.33, 55.66, 64.66, 125.66, 96.0, 48.0, 22.0, 128.33, 6.0, 23.33, 5.0, 167.0, 48.33, 33.66, 1.0, 19.33, 40.66, 36.0, 98.66, 1.0, 31.66, 4.0, 4.0, 5.0, 0.33, 4.33, 1.0, 10.66, 33.66, 23.0, 65.66, 29.0, 74.33, 38.0, 28.66, 54.66, 13.0, 2.66, 56.66, 61.33, 157.33, 107.66, 10.0, 13.33, 3.0, 9.33, 60.66, 25.0, 1.0, 3.33, 1.0, 61.33, 22.66, 10.66, 192.0, 1.0, 10.0, 3.0, 51.33, 10.66, 96.66, 50.0, 38.33, 3.66, 58.0, 5.0, 6.33, 23.66, 1.0, 35.66, 64.66, 78.66, 30.0, 51.0, 12.0, 27.66, 18.33, 3.0, 64.0, 1.0, 13.66, 18.33, 57.66, 53.0, 124.33, 18.66, 130.0, 16.33, 207.66, 17.33, 146.33, 56.33, 90.66, 10.0, 167.0, 1.0, 36.66, 11.0, 4.0, 1.33, 26.33, 70.0, 37.0, 9.33, 26.66, 62.66, 3.66, 1.33, 53.66, 20.33, 3.33, 45.66, 58.33, 187.66, 24.66, 2.66, 13.33, 70.33, 165.66, 64.66, 64.33, 68.66, 56.33, 53.66, 32.0, 33.66, 71.66, 68.33, 61.66, 124.33, 43.33, 69.66, 32.66, 45.0, 18.0, 25.33, 93.33, 11.33, 8.0, 181.33, 6.33, 65.0, 19.66, 3.0, 42.33, 171.66, 93.0, 30.66, 34.33, 30.0, 2.0, 23.33, 24.33, 81.33, 1.33, 54.33, 0.66, 7.0, 116.66, 114.66, 2.0, 44.33, 166.33, 20.0, 148.0, 26.33, 42.66, 13.0, 50.0, 43.66, 18.33, 35.33, 92.0, 5.33, 167.66, 20.66, 52.33, 7.33, 62.66, 13.0, 42.0, 25.0, 2.0, 60.66, 2.0, 30.0, 50.66, 1.0, 32.0, 1.0, 49.66, 27.0, 0.66, 62.33, 61.0, 0.33, 25.66, 50.33, 117.66, 13.0, 1.0, 5.66, 14.66, 105.66, 19.66, 11.66, 29.33, 17.66, 22.33, 182.33, 27.66, 2.0, 109.66, 61.66, 26.33, 1.0, 42.66, 33.66, 59.33, 32.66, 35.33, 24.66, 133.33, 20.0, 4.0, 6.33, 6.66, 20.66, 56.0, 9.33, 66.0, 2.66, 78.33, 104.33, 3.66, 179.66, 0.0, 64.0, 10.33, 139.0, 39.0, 14.66, 120.66, 0.33, 3.33, 165.66, 6.66, 47.33, 1.0, 25.66, 69.66, 68.33, 80.33, 121.33, 110.0, 39.33, 8.33, 14.66, 68.66, 33.33, 155.33, 1.0, 3.66, 57.66, 47.66, 34.0, 28.66, 30.33, 192.0, 98.33, 6.66, 182.0, 29.33, 119.33, 40.0, 42.66, 28.33, 178.66, 51.0, 88.0, 3.33, 115.33, 4.33, 55.66, 143.33, 101.66, 1.0, 0.33, 35.33, 6.66, 34.33, 33.33, 56.0, 149.0, 70.66, 135.33, 83.66, 25.33, 23.66, 171.0, 28.66, 14.33, 20.33, 65.66, 6.0, 3.66, 65.33, 1.0, 2.0, 18.33, 114.0, 1.66, 58.66, 3.33, 26.66, 20.0, 64.66, 10.33, 152.33, 1.0, 35.66, 6.0, 9.0, 2.33, 8.66, 127.66, 9.33, 35.0, 129.66, 104.33, 14.66, 47.33, 58.0, 181.0, 71.0, 31.66, 68.66, 18.66, 85.66, 40.0, 51.66, 20.0, 67.33, 10.0, 2.33, 158.66, 59.66, 73.0, 1.0, 49.66, 55.66, 36.0, 70.0, 1.0, 4.33, 69.0, 142.33, 45.0, 49.66, 8.0, 8.66, 51.66, 8.0, 21.33, 70.0, 178.33, 4.66, 11.66, 21.66, 63.66, 5.0, 3.33, 69.0, 101.33, 82.0, 15.0, 10.0, 45.33, 4.33, 58.66, 0.33, 19.0, 39.33, 16.33, 119.33, 55.33, 33.66, 11.33, 10.66, 133.66, 33.33, 100.66, 44.0, 158.0, 56.33, 121.66, 162.0, 2.0, 157.0, 106.66, 59.66, 46.0, 63.33, 70.33, 29.66, 71.66, 11.33, 80.0, 0.33, 25.66, 29.0, 8.66, 3.0, 9.0, 69.33, 30.33, 38.66, 8.33, 53.66, 11.33, 18.66, 80.33, 2.0, 28.0, 13.0, 5.66, 47.0, 35.66, 4.66, 118.66, 15.0, 16.66, 49.0, 2.0, 6.0, 53.66, 141.33, 16.66, 61.66, 6.66, 70.66, 1.33, 40.66, 121.66, 102.66, 57.66, 12.33, 29.0, 56.66, 20.66, 29.66, 38.33, 72.33, 46.33, 1.0, 95.33, 180.0, 68.0, 157.0, 35.66, 12.0, 106.33, 180.0, 1.0, 179.33, 85.33, 111.66, 39.66, 31.33, 12.0, 180.0, 27.33, 4.0, 62.33, 43.33, 16.0, 82.33, 3.0, 1.0, 0.33, 66.66, 4.33, 150.66, 63.0, 23.0, 62.66, 75.0, 0.33, 53.0, 27.33, 9.0, 123.33, 162.33, 38.66, 59.66, 30.0, 64.0, 120.0, 2.0, 146.66, 23.33, 7.66, 23.66, 89.66, 7.33, 2.0, 22.33, 52.33, 64.66, 1.66, 1.0, 14.0, 1.0, 13.0, 31.0, 44.66, 163.0, 36.0, 19.0, 12.66, 119.0, 12.66, 21.66, 14.0, 40.0, 158.66, 52.33, 54.66, 4.0, 150.33, 10.33, 187.0, 49.33, 157.33, 73.0, 8.0, 4.66, 1.0, 3.66, 25.33, 89.33, 10.33, 4.0, 185.66, 36.66, 0.66, 28.0, 181.33, 28.66, 22.66, 35.66, 29.0, 9.66, 14.33, 74.33, 4.33, 32.33, 14.66, 1.0, 3.0, 3.0, 180.66, 26.66, 57.0, 8.0, 5.0, 7.66, 1.33, 10.66, 92.33, 104.66, 130.33, 36.0, 0.33, 9.33, 14.33, 10.33, 62.0, 23.33, 15.33, 62.33, 29.66, 108.33, 63.33, 8.66, 43.66, 77.33, 42.33, 2.0, 1.33, 50.33, 5.33, 86.33, 15.0, 2.33, 1.66, 1.0, 144.33, 51.0, 93.66, 17.0, 24.0, 6.66, 2.0, 114.0, 3.66, 26.66, 66.66, 2.0, 78.0, 6.0, 10.33, 1.0, 13.33, 0.33, 109.33, 155.0, 1.0, 142.66, 56.33, 25.66, 33.33, 38.33, 54.66, 22.66, 30.66, 64.0, 73.66, 7.33, 13.33, 0.33, 149.66, 25.66, 63.0, 31.66, 49.0, 26.66, 20.33, 36.0, 0.33, 2.0, 27.66, 4.66, 76.0, 193.33, 6.0, 0.66, 9.66, 10.0, 20.66, 72.33, 136.66, 64.33, 5.0, 27.33, 0.66, 7.0, 1.0, 12.0, 69.0, 132.66, 29.66, 157.66, 24.33, 46.33, 17.66, 7.33, 64.33, 0.66, 1.0, 35.66, 40.33, 133.0, 81.0, 63.0, 25.0, 4.0, 9.0, 1.0, 61.66, 2.0, 108.0, 3.0, 8.0, 11.33, 28.33, 1.0, 65.0, 26.66, 13.33, 169.0, 40.33, 42.66, 35.33, 35.33, 12.66, 26.0, 33.66, 87.0, 11.66, 54.66, 42.66, 65.33, 26.33, 43.33, 11.33, 2.0, 25.66, 53.0, 59.0, 7.66, 179.33, 6.33, 3.0, 1.66, 54.0, 19.66, 3.0, 25.0, 156.66, 6.0, 64.66, 77.33, 29.33, 80.33, 15.0, 14.66, 60.33, 56.33, 47.0, 128.33, 4.66, 149.33, 0.33, 31.0, 4.66, 43.33, 113.66, 41.33, 39.66, 67.33, 68.0, 126.66, 7.66, 128.66, 3.66, 4.33, 14.0, 37.33, 63.66, 7.66, 5.0, 44.66, 88.33, 68.33, 15.66, 65.66, 67.66, 57.0, 63.33, 46.0, 13.66, 0.0, 9.0, 6.66, 21.66, 79.33, 58.66, 2.33, 101.33, 179.0, 2.0, 98.33, 106.0, 42.66, 63.33, 73.33, 35.33, 12.33, 2.0, 3.66, 144.33, 33.66, 0.0, 67.66, 1.0, 42.66, 47.66, 5.0, 61.33, 64.0, 53.33, 24.66, 34.0, 75.0, 49.0, 15.33, 8.0, 1.33, 1.0, 49.33, 3.33, 2.66, 50.0, 72.33, 73.66, 8.0, 50.0, 1.0, 12.33, 20.33, 72.66, 100.66, 185.66, 107.0, 1.33, 46.0, 134.66, 40.0, 1.66, 94.33, 40.0, 35.0, 12.66, 57.33, 124.66, 9.33, 12.33, 206.33, 159.0, 27.33, 21.0, 20.33, 54.66, 57.33, 94.66, 65.66, 34.33, 148.33, 16.33, 9.66, 5.66, 4.0, 42.66, 57.0, 43.66, 213.33, 46.66, 25.33, 73.33, 23.0, 70.33, 17.0, 1.0, 54.0, 11.66, 91.0, 74.0, 34.0, 39.66, 48.66, 62.33, 4.0, 138.66, 5.0, 67.66, 179.33, 28.0, 6.33, 18.0, 1.0, 15.0, 6.66, 35.33, 155.0, 18.66, 91.0, 52.0, 4.33, 5.0, 15.0, 54.0, 64.33, 5.66, 27.33]\n"
          ]
        }
      ]
    },
    {
      "cell_type": "code",
      "source": [
        "statcast_names = []\n",
        "WHHIP = []\n",
        "for i in names:\n",
        "    fname = i.split(' ', 1)[0]\n",
        "    lname = i.split(' ', 1)[1]\n",
        "    \n",
        "  \n",
        "    # Correcting for all mismatches from Baseball-Ref to Statcast \n",
        "    if \".\" in fname:\n",
        "      fname = fname.replace('.', '. ', 1)\n",
        "\n",
        "    if fname + \" \" + lname == \"Matthew Boyd\":\n",
        "      fname = fname.replace(\"Matthew\", \"Matt\")\n",
        "    elif fname + \" \" + lname == \"Daniel Camarena\":\n",
        "      fname = fname.replace(\"Daniel\", \"Dan\")\n",
        "    elif fname + \" \" + lname == \"JT Chargois\":\n",
        "      fname = fname.replace(\"JT\", 'j. t.')\n",
        "    elif lname[-4:] == \" Jr.\":\n",
        "      lname = lname.replace(\" Jr.\", \"\")\n",
        "    elif lname[-4:] == \" Sr.\":\n",
        "      lname = lname.replace(\" Sr.\", \"\")\n",
        "    elif fname + \" \" + lname == \"Chi Chi Gonzalez\":\n",
        "      fname = fname.replace(\"Chi\", \"Chi Chi\")\n",
        "      lname = lname.replace(\"Chi Gonzalez\", \"Gonzalez\")\n",
        "    elif fname + \" \" + lname == \"Jonathan Heasley\":\n",
        "      fname = fname.replace(\"Jonathan\", \"Jon\")\n",
        "    elif fname + \" \" + lname == \"Kwang Hyun Kim\":\n",
        "      fname = fname.replace(\"Kwang\", \"Kwang Hyun\")\n",
        "      lname = lname.replace(\"Hyun Kim\", \"Kim\")\n",
        "    elif fname + \" \" + lname == \"Hyun Jin Ryu\":\n",
        "      fname = fname.replace(\"Hyun\", \"Hyun Jin\")\n",
        "      lname = lname.replace(\"Jin Ryu\", \"Ryu\")\n",
        "    elif fname + \" \" + lname == \"Michael King\":\n",
        "      fname = fname.replace(\"Michael\", \"Mike\")\n",
        "    elif lname == \"DÃ­az\":\n",
        "      lname = lname.replace(\"DÃ­az\", \"Díaz\")\n",
        "    elif lname == \"GutiÃ©rrez\":\n",
        "      lname = lname.replace(\"GutiÃ©rrez\", \"Gutiérrez\")\n",
        "    elif lname == \"LÃ³pez\":\n",
        "      lname = lname.replace(\"LÃ³pez\", \"López\")\n",
        "    elif fname + \" \" + lname == \"AdriÃ¡n MorejÃ³n\":\n",
        "      fname = fname.replace(\"AdriÃ¡n\",\"Adrián\")\n",
        "      lname = lname.replace(\"MorejÃ³n\",\"Morejón\")\n",
        "    elif lname == \"NÃºÃ±ez\":\n",
        "      lname = lname.replace(\"NÃºÃ±ez\", \"Núñez\")\n",
        "    elif fname + \" \" + lname == \"FÃ©lix PeÃ±a\":\n",
        "      fname = fname.replace(\"FÃ©lix\",\"Félix\")\n",
        "      lname = lname.replace(\"PeÃ±a\",\"Peña\")\n",
        "    elif lname == \"PÃ©rez\":\n",
        "      lname = lname.replace(\"PÃ©rez\", \"Pérez\")\n",
        "    elif lname == \"RodrÃ­guez\":\n",
        "      lname = lname.replace(\"RodrÃ­guez\", \"Rodríguez\")\n",
        "\n",
        "\n",
        "    playerid = playerid_lookup(lname, fname)['key_mlbam'][0]\n",
        "    print(fname, lname, playerid)\n",
        "'''\n",
        "    statcast_names.append(fname + \" \" + lname)\n",
        "\n",
        "    statcast_data = statcast_pitcher('2021-04-01', '2021-10-03', player_id = playerid)\n",
        "    \n",
        "    hard_hits = statcast_data[statcast_data['launch_speed'] > 95.0]\n",
        "    hard_hits['launch_speed']\n",
        "\n",
        "    hits = ['home_run','double', 'single', 'triple']\n",
        "\n",
        "    hh = hard_hits[hard_hits['events'].isin(hits)]\n",
        "    print(hh.shape[0])\n",
        "\n",
        "    #WHHIP.append()\n",
        "'''"
      ],
      "metadata": {
        "colab": {
          "base_uri": "https://localhost:8080/",
          "height": 240
        },
        "id": "eeNZ4rUW-1E5",
        "outputId": "1e79fbb4-b9bf-45a1-cc1a-4c358fb61f4b"
      },
      "execution_count": 69,
      "outputs": [
        {
          "output_type": "error",
          "ename": "NameError",
          "evalue": "ignored",
          "traceback": [
            "\u001b[0;31m---------------------------------------------------------------------------\u001b[0m",
            "\u001b[0;31mNameError\u001b[0m                                 Traceback (most recent call last)",
            "\u001b[0;32m<ipython-input-69-9d2e0c5c33c1>\u001b[0m in \u001b[0;36m<module>\u001b[0;34m()\u001b[0m\n\u001b[1;32m      1\u001b[0m \u001b[0mstatcast_names\u001b[0m \u001b[0;34m=\u001b[0m \u001b[0;34m[\u001b[0m\u001b[0;34m]\u001b[0m\u001b[0;34m\u001b[0m\u001b[0;34m\u001b[0m\u001b[0m\n\u001b[1;32m      2\u001b[0m \u001b[0mWHHIP\u001b[0m \u001b[0;34m=\u001b[0m \u001b[0;34m[\u001b[0m\u001b[0;34m]\u001b[0m\u001b[0;34m\u001b[0m\u001b[0;34m\u001b[0m\u001b[0m\n\u001b[0;32m----> 3\u001b[0;31m \u001b[0;32mfor\u001b[0m \u001b[0mi\u001b[0m \u001b[0;32min\u001b[0m \u001b[0mnames\u001b[0m\u001b[0;34m,\u001b[0m \u001b[0mj\u001b[0m \u001b[0;32min\u001b[0m \u001b[0mnew_ip\u001b[0m\u001b[0;34m:\u001b[0m\u001b[0;34m\u001b[0m\u001b[0;34m\u001b[0m\u001b[0m\n\u001b[0m\u001b[1;32m      4\u001b[0m     \u001b[0mfname\u001b[0m \u001b[0;34m=\u001b[0m \u001b[0mi\u001b[0m\u001b[0;34m.\u001b[0m\u001b[0msplit\u001b[0m\u001b[0;34m(\u001b[0m\u001b[0;34m' '\u001b[0m\u001b[0;34m,\u001b[0m \u001b[0;36m1\u001b[0m\u001b[0;34m)\u001b[0m\u001b[0;34m[\u001b[0m\u001b[0;36m0\u001b[0m\u001b[0;34m]\u001b[0m\u001b[0;34m\u001b[0m\u001b[0;34m\u001b[0m\u001b[0m\n\u001b[1;32m      5\u001b[0m     \u001b[0mlname\u001b[0m \u001b[0;34m=\u001b[0m \u001b[0mi\u001b[0m\u001b[0;34m.\u001b[0m\u001b[0msplit\u001b[0m\u001b[0;34m(\u001b[0m\u001b[0;34m' '\u001b[0m\u001b[0;34m,\u001b[0m \u001b[0;36m1\u001b[0m\u001b[0;34m)\u001b[0m\u001b[0;34m[\u001b[0m\u001b[0;36m1\u001b[0m\u001b[0;34m]\u001b[0m\u001b[0;34m\u001b[0m\u001b[0;34m\u001b[0m\u001b[0m\n",
            "\u001b[0;31mNameError\u001b[0m: name 'j' is not defined"
          ]
        }
      ]
    },
    {
      "cell_type": "code",
      "source": [
        "cole = statcast_pitcher('2021-04-01', '2021-10-03', player_id = 543037)\n",
        "cole\n",
        "\n",
        "cole_hh = cole[cole['launch_speed'] > 95.0]\n",
        "cole_hh['launch_speed']\n",
        "\n",
        "cole_hh['events'].unique()\n",
        "hits = ['home_run','double', 'single', 'triple']\n",
        "\n",
        "cole_hard_hits = cole_hh[cole_hh['events'].isin(hits)]\n",
        "\n",
        "WHHIP_cole = (41 + 81)/(181.33)\n",
        "print(round(WHHIP_cole, 3))"
      ],
      "metadata": {
        "id": "jXE-FvXiec9B"
      },
      "execution_count": null,
      "outputs": []
    },
    {
      "cell_type": "code",
      "source": [
        "data = [statcast_names, WHHIP]\n",
        "df = pd.DataFrame(data,columns=['Name', 'WHHIP'])"
      ],
      "metadata": {
        "id": "xnbbwDxL-l2j"
      },
      "execution_count": null,
      "outputs": []
    }
  ]
}
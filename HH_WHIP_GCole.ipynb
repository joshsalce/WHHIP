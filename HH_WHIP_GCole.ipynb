{
  "nbformat": 4,
  "nbformat_minor": 0,
  "metadata": {
    "colab": {
      "name": "HH-WHIP_GCole.ipynb",
      "provenance": [],
      "collapsed_sections": []
    },
    "kernelspec": {
      "name": "python3",
      "display_name": "Python 3"
    },
    "language_info": {
      "name": "python"
    }
  },
  "cells": [
    {
      "cell_type": "code",
      "execution_count": 41,
      "metadata": {
        "id": "8x5lJ2GGksI_"
      },
      "outputs": [],
      "source": [
        "%pip install pybaseball -q"
      ]
    },
    {
      "cell_type": "code",
      "source": [
        "import pybaseball as pyb\n",
        "from pybaseball import statcast\n",
        "from pybaseball import statcast_pitcher, playerid_lookup\n",
        "from pybaseball import pitching_stats_bref"
      ],
      "metadata": {
        "id": "8oib1VhSkvnj"
      },
      "execution_count": 42,
      "outputs": []
    },
    {
      "cell_type": "code",
      "source": [
        "import pandas as pd\n",
        "import numpy as np"
      ],
      "metadata": {
        "id": "-GXitP_Qn9bC"
      },
      "execution_count": 43,
      "outputs": []
    },
    {
      "cell_type": "code",
      "source": [
        "playerid_lookup('cole','gerrit')['key_mlbam'][0]"
      ],
      "metadata": {
        "colab": {
          "base_uri": "https://localhost:8080/"
        },
        "id": "jxqr37e2k4Hz",
        "outputId": "c2add789-116e-43d8-e24f-80f92a04db3f"
      },
      "execution_count": 44,
      "outputs": [
        {
          "output_type": "execute_result",
          "data": {
            "text/plain": [
              "543037"
            ]
          },
          "metadata": {},
          "execution_count": 44
        }
      ]
    },
    {
      "cell_type": "code",
      "source": [
        "cole = statcast_pitcher('2021-04-01', '2021-10-03', player_id = 543037)\n",
        "cole"
      ],
      "metadata": {
        "id": "1MccL8bClIGO"
      },
      "execution_count": null,
      "outputs": []
    },
    {
      "cell_type": "code",
      "source": [
        "cole_hh = cole[cole['launch_speed'] > 95.0]\n",
        "cole_hh['launch_speed']"
      ],
      "metadata": {
        "id": "Sn8NTDQQucPs"
      },
      "execution_count": null,
      "outputs": []
    },
    {
      "cell_type": "code",
      "source": [
        "cole_hh['events'].unique()\n",
        "hits = ['home_run','double', 'single', 'triple']"
      ],
      "metadata": {
        "id": "MpiNMPeurJBq"
      },
      "execution_count": 47,
      "outputs": []
    },
    {
      "cell_type": "code",
      "source": [
        "cole_hard_hits = cole_hh[cole_hh['events'].isin(hits)]"
      ],
      "metadata": {
        "id": "X1P5kXusvgyk"
      },
      "execution_count": 48,
      "outputs": []
    },
    {
      "cell_type": "code",
      "source": [
        "WHHIP_cole = (41 + 81)/(181.33)\n",
        "print(round(WHHIP_cole, 3))"
      ],
      "metadata": {
        "id": "pxjDsFWXvwiL"
      },
      "execution_count": null,
      "outputs": []
    },
    {
      "cell_type": "markdown",
      "source": [
        "2021 Gerrit Cole's Hard-Hit WHIP (WHHIP): 0.673\n",
        "\n",
        "---\n",
        "\n"
      ],
      "metadata": {
        "id": "KwWi2JOswTqa"
      }
    }
  ]
}
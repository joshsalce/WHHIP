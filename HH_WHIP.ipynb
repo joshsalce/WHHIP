{
  "nbformat": 4,
  "nbformat_minor": 0,
  "metadata": {
    "colab": {
      "name": "HH-WHIP.ipynb",
      "provenance": [],
      "collapsed_sections": []
    },
    "kernelspec": {
      "name": "python3",
      "display_name": "Python 3"
    },
    "language_info": {
      "name": "python"
    }
  },
  "cells": [
    {
      "cell_type": "code",
      "execution_count": 1,
      "metadata": {
        "colab": {
          "base_uri": "https://localhost:8080/"
        },
        "id": "8x5lJ2GGksI_",
        "outputId": "c8856388-d51b-4a56-e6ea-f7e2f73cc538"
      },
      "outputs": [
        {
          "output_type": "stream",
          "name": "stdout",
          "text": [
            "\u001b[K     |████████████████████████████████| 415 kB 28.0 MB/s \n",
            "\u001b[K     |████████████████████████████████| 291 kB 29.5 MB/s \n",
            "\u001b[K     |████████████████████████████████| 856 kB 37.5 MB/s \n",
            "\u001b[?25h"
          ]
        }
      ],
      "source": [
        "%pip install pybaseball -q"
      ]
    },
    {
      "cell_type": "code",
      "source": [
        "import pybaseball as pyb\n",
        "from pybaseball import statcast, team_game_logs, pitching, pitching_stats\n",
        "from pybaseball import statcast_pitcher, statcast_batter, playerid_lookup"
      ],
      "metadata": {
        "id": "8oib1VhSkvnj"
      },
      "execution_count": 3,
      "outputs": []
    },
    {
      "cell_type": "code",
      "source": [
        "import pandas as pd\n",
        "import numpy as np"
      ],
      "metadata": {
        "id": "-GXitP_Qn9bC"
      },
      "execution_count": 51,
      "outputs": []
    },
    {
      "cell_type": "code",
      "source": [
        "playerid_lookup('cole','gerrit')"
      ],
      "metadata": {
        "colab": {
          "base_uri": "https://localhost:8080/",
          "height": 99
        },
        "id": "jxqr37e2k4Hz",
        "outputId": "88af276c-709b-43e2-dacb-42020b0b002b"
      },
      "execution_count": 4,
      "outputs": [
        {
          "output_type": "stream",
          "name": "stdout",
          "text": [
            "Gathering player lookup table. This may take a moment.\n"
          ]
        },
        {
          "output_type": "execute_result",
          "data": {
            "text/plain": [
              "  name_last name_first  key_mlbam key_retro key_bbref  key_fangraphs  \\\n",
              "0      cole     gerrit     543037  coleg001  colege01          13125   \n",
              "\n",
              "   mlb_played_first  mlb_played_last  \n",
              "0            2013.0           2022.0  "
            ],
            "text/html": [
              "\n",
              "  <div id=\"df-e5142f6b-296c-40b4-ae3b-8af2c9bf6ef3\">\n",
              "    <div class=\"colab-df-container\">\n",
              "      <div>\n",
              "<style scoped>\n",
              "    .dataframe tbody tr th:only-of-type {\n",
              "        vertical-align: middle;\n",
              "    }\n",
              "\n",
              "    .dataframe tbody tr th {\n",
              "        vertical-align: top;\n",
              "    }\n",
              "\n",
              "    .dataframe thead th {\n",
              "        text-align: right;\n",
              "    }\n",
              "</style>\n",
              "<table border=\"1\" class=\"dataframe\">\n",
              "  <thead>\n",
              "    <tr style=\"text-align: right;\">\n",
              "      <th></th>\n",
              "      <th>name_last</th>\n",
              "      <th>name_first</th>\n",
              "      <th>key_mlbam</th>\n",
              "      <th>key_retro</th>\n",
              "      <th>key_bbref</th>\n",
              "      <th>key_fangraphs</th>\n",
              "      <th>mlb_played_first</th>\n",
              "      <th>mlb_played_last</th>\n",
              "    </tr>\n",
              "  </thead>\n",
              "  <tbody>\n",
              "    <tr>\n",
              "      <th>0</th>\n",
              "      <td>cole</td>\n",
              "      <td>gerrit</td>\n",
              "      <td>543037</td>\n",
              "      <td>coleg001</td>\n",
              "      <td>colege01</td>\n",
              "      <td>13125</td>\n",
              "      <td>2013.0</td>\n",
              "      <td>2022.0</td>\n",
              "    </tr>\n",
              "  </tbody>\n",
              "</table>\n",
              "</div>\n",
              "      <button class=\"colab-df-convert\" onclick=\"convertToInteractive('df-e5142f6b-296c-40b4-ae3b-8af2c9bf6ef3')\"\n",
              "              title=\"Convert this dataframe to an interactive table.\"\n",
              "              style=\"display:none;\">\n",
              "        \n",
              "  <svg xmlns=\"http://www.w3.org/2000/svg\" height=\"24px\"viewBox=\"0 0 24 24\"\n",
              "       width=\"24px\">\n",
              "    <path d=\"M0 0h24v24H0V0z\" fill=\"none\"/>\n",
              "    <path d=\"M18.56 5.44l.94 2.06.94-2.06 2.06-.94-2.06-.94-.94-2.06-.94 2.06-2.06.94zm-11 1L8.5 8.5l.94-2.06 2.06-.94-2.06-.94L8.5 2.5l-.94 2.06-2.06.94zm10 10l.94 2.06.94-2.06 2.06-.94-2.06-.94-.94-2.06-.94 2.06-2.06.94z\"/><path d=\"M17.41 7.96l-1.37-1.37c-.4-.4-.92-.59-1.43-.59-.52 0-1.04.2-1.43.59L10.3 9.45l-7.72 7.72c-.78.78-.78 2.05 0 2.83L4 21.41c.39.39.9.59 1.41.59.51 0 1.02-.2 1.41-.59l7.78-7.78 2.81-2.81c.8-.78.8-2.07 0-2.86zM5.41 20L4 18.59l7.72-7.72 1.47 1.35L5.41 20z\"/>\n",
              "  </svg>\n",
              "      </button>\n",
              "      \n",
              "  <style>\n",
              "    .colab-df-container {\n",
              "      display:flex;\n",
              "      flex-wrap:wrap;\n",
              "      gap: 12px;\n",
              "    }\n",
              "\n",
              "    .colab-df-convert {\n",
              "      background-color: #E8F0FE;\n",
              "      border: none;\n",
              "      border-radius: 50%;\n",
              "      cursor: pointer;\n",
              "      display: none;\n",
              "      fill: #1967D2;\n",
              "      height: 32px;\n",
              "      padding: 0 0 0 0;\n",
              "      width: 32px;\n",
              "    }\n",
              "\n",
              "    .colab-df-convert:hover {\n",
              "      background-color: #E2EBFA;\n",
              "      box-shadow: 0px 1px 2px rgba(60, 64, 67, 0.3), 0px 1px 3px 1px rgba(60, 64, 67, 0.15);\n",
              "      fill: #174EA6;\n",
              "    }\n",
              "\n",
              "    [theme=dark] .colab-df-convert {\n",
              "      background-color: #3B4455;\n",
              "      fill: #D2E3FC;\n",
              "    }\n",
              "\n",
              "    [theme=dark] .colab-df-convert:hover {\n",
              "      background-color: #434B5C;\n",
              "      box-shadow: 0px 1px 3px 1px rgba(0, 0, 0, 0.15);\n",
              "      filter: drop-shadow(0px 1px 2px rgba(0, 0, 0, 0.3));\n",
              "      fill: #FFFFFF;\n",
              "    }\n",
              "  </style>\n",
              "\n",
              "      <script>\n",
              "        const buttonEl =\n",
              "          document.querySelector('#df-e5142f6b-296c-40b4-ae3b-8af2c9bf6ef3 button.colab-df-convert');\n",
              "        buttonEl.style.display =\n",
              "          google.colab.kernel.accessAllowed ? 'block' : 'none';\n",
              "\n",
              "        async function convertToInteractive(key) {\n",
              "          const element = document.querySelector('#df-e5142f6b-296c-40b4-ae3b-8af2c9bf6ef3');\n",
              "          const dataTable =\n",
              "            await google.colab.kernel.invokeFunction('convertToInteractive',\n",
              "                                                     [key], {});\n",
              "          if (!dataTable) return;\n",
              "\n",
              "          const docLinkHtml = 'Like what you see? Visit the ' +\n",
              "            '<a target=\"_blank\" href=https://colab.research.google.com/notebooks/data_table.ipynb>data table notebook</a>'\n",
              "            + ' to learn more about interactive tables.';\n",
              "          element.innerHTML = '';\n",
              "          dataTable['output_type'] = 'display_data';\n",
              "          await google.colab.output.renderOutput(dataTable, element);\n",
              "          const docLink = document.createElement('div');\n",
              "          docLink.innerHTML = docLinkHtml;\n",
              "          element.appendChild(docLink);\n",
              "        }\n",
              "      </script>\n",
              "    </div>\n",
              "  </div>\n",
              "  "
            ]
          },
          "metadata": {},
          "execution_count": 4
        }
      ]
    },
    {
      "cell_type": "code",
      "source": [
        "cole = statcast_pitcher('2021-04-01', '2021-10-03', player_id = 543037)"
      ],
      "metadata": {
        "colab": {
          "base_uri": "https://localhost:8080/"
        },
        "id": "1MccL8bClIGO",
        "outputId": "fb5705ee-4502-4ee6-b3e9-d12b9ac9138e"
      },
      "execution_count": 64,
      "outputs": [
        {
          "output_type": "stream",
          "name": "stdout",
          "text": [
            "Gathering Player Data\n"
          ]
        },
        {
          "output_type": "execute_result",
          "data": {
            "text/plain": [
              "0       84.0\n",
              "1        NaN\n",
              "2        NaN\n",
              "3       91.1\n",
              "4        NaN\n",
              "        ... \n",
              "2964     NaN\n",
              "2965     NaN\n",
              "2966     NaN\n",
              "2967    99.9\n",
              "2968     NaN\n",
              "Name: launch_speed, Length: 2969, dtype: float64"
            ]
          },
          "metadata": {},
          "execution_count": 64
        }
      ]
    },
    {
      "cell_type": "code",
      "source": [
        "cole_hh = cole[cole['launch_speed'] > 95.0]\n",
        "cole_hh['launch_speed']"
      ],
      "metadata": {
        "colab": {
          "base_uri": "https://localhost:8080/"
        },
        "id": "Sn8NTDQQucPs",
        "outputId": "c935818e-2657-4269-c2ce-5b6b7073e5e5"
      },
      "execution_count": 67,
      "outputs": [
        {
          "output_type": "execute_result",
          "data": {
            "text/plain": [
              "11       98.2\n",
              "21       97.6\n",
              "33      102.9\n",
              "47      105.8\n",
              "63      103.5\n",
              "        ...  \n",
              "2948    106.3\n",
              "2951    114.1\n",
              "2952    102.6\n",
              "2957    102.2\n",
              "2967     99.9\n",
              "Name: launch_speed, Length: 205, dtype: float64"
            ]
          },
          "metadata": {},
          "execution_count": 67
        }
      ]
    },
    {
      "cell_type": "code",
      "source": [
        "cole_hh['events'].unique()\n",
        "hits = ['home_run','double', 'single', 'triple']"
      ],
      "metadata": {
        "id": "MpiNMPeurJBq"
      },
      "execution_count": 70,
      "outputs": []
    },
    {
      "cell_type": "code",
      "source": [
        "cole_hard_hits = cole_hh[cole_hh['events'].isin(hits)]"
      ],
      "metadata": {
        "colab": {
          "base_uri": "https://localhost:8080/"
        },
        "id": "X1P5kXusvgyk",
        "outputId": "37355998-4ee0-4d90-8b57-f9b287776e6c"
      },
      "execution_count": 74,
      "outputs": [
        {
          "output_type": "execute_result",
          "data": {
            "text/plain": [
              "47      105.8\n",
              "72       97.3\n",
              "86      106.9\n",
              "90      102.3\n",
              "95      111.8\n",
              "        ...  \n",
              "2867    103.9\n",
              "2879    110.3\n",
              "2948    106.3\n",
              "2951    114.1\n",
              "2952    102.6\n",
              "Name: launch_speed, Length: 81, dtype: float64"
            ]
          },
          "metadata": {},
          "execution_count": 74
        }
      ]
    },
    {
      "cell_type": "code",
      "source": [
        "WHHIP_cole = (41 + 81)/(181.33)\n",
        "print(round(WHHIP_cole, 3))"
      ],
      "metadata": {
        "colab": {
          "base_uri": "https://localhost:8080/"
        },
        "id": "pxjDsFWXvwiL",
        "outputId": "ea1ae9d6-7037-46ca-f8a9-b48f7c8b99e3"
      },
      "execution_count": 82,
      "outputs": [
        {
          "output_type": "stream",
          "name": "stdout",
          "text": [
            "0.673\n"
          ]
        }
      ]
    },
    {
      "cell_type": "markdown",
      "source": [
        "2021 Gerrit Cole's Hard-Hit WHIP (WHHIP): 0.673\n",
        "\n",
        "---\n",
        "\n"
      ],
      "metadata": {
        "id": "KwWi2JOswTqa"
      }
    }
  ]
}